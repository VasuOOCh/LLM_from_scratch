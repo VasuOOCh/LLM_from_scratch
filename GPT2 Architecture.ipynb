{
 "cells": [
  {
   "cell_type": "code",
   "execution_count": 1,
   "id": "e0908c73",
   "metadata": {},
   "outputs": [],
   "source": [
    "GPT_2_config_124M = {\n",
    "    \"vocab_size\" : 50257,\n",
    "    \"context_length\" : 1024,\n",
    "    \"emb_dim\" : 768,\n",
    "    \"n_heads\" : 12,\n",
    "    \"n_layers\" : 12,\n",
    "    \"drop_rate\" : 0.1,\n",
    "    \"qkv_bias\" : False\n",
    "}\n",
    "\n",
    "# context_length(num_tokens) means how many tokens are processed at once in an input\n"
   ]
  },
  {
   "cell_type": "code",
   "execution_count": 2,
   "id": "896efe85",
   "metadata": {},
   "outputs": [
    {
     "data": {
      "text/plain": [
       "'\\nCreate tokenIDs from Input text\\nFrom the lookup matrix, find out the vector embedding for the tokens\\n\\nlookup Matrix : vocav_size X emb_dim\\npos_matrix : context_length X emb_dim\\n\\nOur input has 4 tokens\\nso the output logit matrix will also have 4 tokens\\nthose 4 logits will contain output for the following inputs : \\nINPUTS : every , every effort, every effort moves, every effort moves you\\nOUTPUTS : effort, moves, you,forward\\n\\nOUTPUT Logits format : [4 X 50257 (vocab_size)]\\n'"
      ]
     },
     "execution_count": 2,
     "metadata": {},
     "output_type": "execute_result"
    }
   ],
   "source": [
    "# Draw the images of lecture in the copy\n",
    "# DUMMY GPT Model Class : \n",
    "# Example Input : \"Every effort moves you\"\n",
    "\n",
    "# Step 1 Tokenization : \n",
    "\"\"\"\n",
    "Create tokenIDs from Input text\n",
    "From the lookup matrix, find out the vector embedding for the tokens\n",
    "\n",
    "lookup Matrix : vocav_size X emb_dim\n",
    "pos_matrix : context_length X emb_dim\n",
    "\n",
    "Our input has 4 tokens\n",
    "so the output logit matrix will also have 4 tokens\n",
    "those 4 logits will contain output for the following inputs : \n",
    "INPUTS : every , every effort, every effort moves, every effort moves you\n",
    "OUTPUTS : effort, moves, you,forward\n",
    "\n",
    "OUTPUT Logits format : [4 X 50257 (vocab_size)]\n",
    "\"\"\""
   ]
  },
  {
   "cell_type": "code",
   "execution_count": 3,
   "id": "e74aadd2",
   "metadata": {},
   "outputs": [],
   "source": [
    "import torch\n",
    "from torch import nn\n",
    "\n",
    "class DummyGPTModel(nn.Module) : \n",
    "    def __init__(self,cfg) : \n",
    "        # cfg is the config\n",
    "        super().__init__()\n",
    "        #token_emb : [vocab_size X emb_size]\n",
    "        self.tok_emb = nn.Embedding(cfg[\"vocab_size\"], cfg[\"emb_dim\"])\n",
    "        \n",
    "        # each input will have max tokens of context_length\n",
    "        # so we need position embedding of those tokens only\n",
    "        # pos_emb == [context_length X emb_size]\n",
    "        self.pos_emb = nn.Embedding(cfg[\"context_length\"], cfg[\"emb_dim\"])\n",
    "        self.drop_emb = nn.Dropout(cfg[\"drop_rate\"])\n",
    "        \n",
    "        self.trf_blocks = nn.Sequential(\n",
    "            *[DummyTransformerBlock(cfg) for _ in range(cfg[\"n_layers\"])]\n",
    "        )\n",
    "        \n",
    "        self.final_norm = DummyLayerNorm(cfg[\"emb_dim\"])\n",
    "        self.out_head = nn.Linear(\n",
    "            cfg[\"emb_dim\"], cfg[\"vocab_size\"], bias=False\n",
    "        )\n",
    "        \n",
    "    def forward(self, in_idx) :\n",
    "        batch_size, seq_len = in_idx.shape\n",
    "        tok_embeds = self.tok_emb(in_idx)\n",
    "        pos_embeds = self.pos_emb(torch.arange(seq_len, device = in_idx.device))\n",
    "        \n",
    "        x = tok_embeds + pos_embeds\n",
    "        x = self.drop_emb(x)\n",
    "        x = self.trf_blocks(x)\n",
    "        x = self.final_norm(x)\n",
    "        logits = self.out_head(x)\n",
    "        return logits\n",
    "\n",
    "  \n",
    "class DummyTransformerBlock(nn.Module):\n",
    "    def __init__(self, cfg):\n",
    "        super().__init__()\n",
    "        # A simple placeholder\n",
    "\n",
    "    def forward(self, x):\n",
    "        # This block does nothing and just returns its input.\n",
    "        return x\n",
    "\n",
    "\n",
    "class DummyLayerNorm(nn.Module):\n",
    "    def __init__(self, normalized_shape, eps=1e-5):\n",
    "        super().__init__()\n",
    "        # The parameters here are just to mimic the LayerNorm interface.\n",
    "\n",
    "    def forward(self, x):\n",
    "        # This layer does nothing and just returns its input.\n",
    "        return x"
   ]
  },
  {
   "cell_type": "code",
   "execution_count": 4,
   "id": "109ee9dd",
   "metadata": {},
   "outputs": [
    {
     "name": "stdout",
     "output_type": "stream",
     "text": [
      "[tensor([6109, 3626, 6100,  345]), tensor([6109, 1110, 6622,  257])]\n"
     ]
    },
    {
     "data": {
      "text/plain": [
       "tensor([[6109, 3626, 6100,  345],\n",
       "        [6109, 1110, 6622,  257]])"
      ]
     },
     "execution_count": 4,
     "metadata": {},
     "output_type": "execute_result"
    }
   ],
   "source": [
    "import tiktoken\n",
    "import torch\n",
    "\n",
    "tokenizer = tiktoken.get_encoding(\"gpt2\")\n",
    "batch = []\n",
    "\n",
    "txt1 = \"Every effort moves you\"\n",
    "txt2 = \"Every day holds a\"\n",
    "batch.append(torch.tensor(tokenizer.encode(txt1)))\n",
    "batch.append(torch.tensor(tokenizer.encode(txt2)))\n",
    "\n",
    "# batch is a list of inputs tensors\n",
    "print(batch)\n",
    "\n",
    "batch = torch.stack(batch,dim = 0)\n",
    "\n",
    "batch"
   ]
  },
  {
   "cell_type": "code",
   "execution_count": 5,
   "id": "93c56a3b",
   "metadata": {},
   "outputs": [
    {
     "name": "stdout",
     "output_type": "stream",
     "text": [
      "torch.Size([2, 4, 50257])\n"
     ]
    }
   ],
   "source": [
    "torch.manual_seed(123)\n",
    "model = DummyGPTModel(GPT_2_config_124M)\n",
    "logits = model(batch)\n",
    "print(logits.shape)"
   ]
  },
  {
   "cell_type": "markdown",
   "id": "7a4acc12",
   "metadata": {},
   "source": [
    "## LAYER NORMALIZATION"
   ]
  },
  {
   "cell_type": "code",
   "execution_count": 6,
   "id": "5c355216",
   "metadata": {},
   "outputs": [
    {
     "data": {
      "text/plain": [
       "tensor([[0.2260, 0.3470, 0.0000, 0.2216, 0.0000, 0.0000],\n",
       "        [0.2133, 0.2394, 0.0000, 0.5198, 0.3297, 0.0000]],\n",
       "       grad_fn=<ReluBackward0>)"
      ]
     },
     "execution_count": 6,
     "metadata": {},
     "output_type": "execute_result"
    }
   ],
   "source": [
    "from torch import nn\n",
    "\n",
    "torch.manual_seed(123)\n",
    "batch_ex = torch.randn(2,5)\n",
    "\n",
    "layer = nn.Sequential(nn.Linear(5,6), nn.ReLU())\n",
    "out = layer(batch_ex)\n",
    "out"
   ]
  },
  {
   "cell_type": "code",
   "execution_count": 8,
   "id": "8e0fa121",
   "metadata": {},
   "outputs": [
    {
     "data": {
      "text/plain": [
       "(tensor([[0.1324],\n",
       "         [0.2170]], grad_fn=<MeanBackward1>),\n",
       " tensor([[0.0231],\n",
       "         [0.0398]], grad_fn=<VarBackward0>))"
      ]
     },
     "execution_count": 8,
     "metadata": {},
     "output_type": "execute_result"
    }
   ],
   "source": [
    "mean = out.mean(dim = -1, keepdim = True)\n",
    "var = out.var(dim = -1, keepdim = True)\n",
    "mean,var"
   ]
  },
  {
   "cell_type": "code",
   "execution_count": 9,
   "id": "fdf2e578",
   "metadata": {},
   "outputs": [
    {
     "name": "stdout",
     "output_type": "stream",
     "text": [
      "tensor([[9.9341e-09],\n",
      "        [1.9868e-08]], grad_fn=<MeanBackward1>) tensor([[1.0000],\n",
      "        [1.0000]], grad_fn=<VarBackward0>)\n"
     ]
    }
   ],
   "source": [
    "out_norm = (out - mean) / torch.sqrt(var)\n",
    "mean = out_norm.mean(dim = -1, keepdim = True)\n",
    "var = out_norm.var(dim = -1, keepdim = True)\n",
    "print(mean,var)"
   ]
  },
  {
   "cell_type": "code",
   "execution_count": 10,
   "id": "55516dfd",
   "metadata": {},
   "outputs": [
    {
     "name": "stdout",
     "output_type": "stream",
     "text": [
      "tensor([[    0.0000],\n",
      "        [    0.0000]], grad_fn=<MeanBackward1>)\n",
      "tensor([[1.0000],\n",
      "        [1.0000]], grad_fn=<VarBackward0>)\n"
     ]
    }
   ],
   "source": [
    "torch.set_printoptions(sci_mode = False)\n",
    "print(mean)\n",
    "print(var)"
   ]
  },
  {
   "cell_type": "code",
   "execution_count": 11,
   "id": "2e44d559",
   "metadata": {},
   "outputs": [],
   "source": [
    "class LayerNorm(nn.Module) : \n",
    "    def __init__(self,emb_dim) : \n",
    "        # emb_dim is the embedding dimension of vectos (768)\n",
    "        super().__init__()\n",
    "        # eps is a small paramter , its just a very small number\n",
    "        self.eps = 1e-5\n",
    "        \n",
    "        # Scale and shift are two trainable paramters\n",
    "        # of the same size that of input\n",
    "        self.scale = nn.Parameter(torch.ones(emb_dim))\n",
    "        self.shift = nn.Parameter(torch.zeros(emb_dim))\n",
    "        \n",
    "    def forward(self, x) : \n",
    "#         print(x)\n",
    "        mean = x.mean(dim = -1, keepdim = True)\n",
    "        var = x.var(dim = -1, keepdim = True, unbiased=False)\n",
    "        # If keepdim is True, the output tensor is of the same size as input except in the dimension(s) dim where it is of size 1. Otherwise, dim is squeezed (see torch.squeeze()), resulting in the output tensor having 1 (or len(dim)) fewer dimension(s).\n",
    "        norm_x = (x - mean) / torch.sqrt(var + self.eps) # so that denominator doesnt become 0\n",
    "#         print(norm_x)\n",
    "#         print(\"mul : \", self.scale * norm_x)\n",
    "#         print(\"after add is \", self.scale * norm_x + self.shift)\n",
    "        return self.scale * norm_x + self.shift\n",
    "\n",
    "        # the scale * norm_x is just element wise multiplication \n",
    "        # i.e each element of scale will be multiplied to each element of\n",
    "        # norm_x, same for shift (addition here)"
   ]
  },
  {
   "cell_type": "code",
   "execution_count": 12,
   "id": "4a91842c",
   "metadata": {},
   "outputs": [
    {
     "name": "stdout",
     "output_type": "stream",
     "text": [
      "tensor([[    -0.0000],\n",
      "        [     0.0000]], grad_fn=<MeanBackward1>) tensor([[1.0000],\n",
      "        [1.0000]], grad_fn=<VarBackward0>)\n"
     ]
    }
   ],
   "source": [
    "ln = LayerNorm(emb_dim = 5)\n",
    "out_ln = ln(batch_ex)\n",
    "\n",
    "mean = out_ln.mean(dim = -1, keepdim = True)\n",
    "var = out_ln.var(dim = -1, unbiased = False, keepdim = True)\n",
    "\n",
    "print(mean,var)"
   ]
  },
  {
   "cell_type": "markdown",
   "id": "51fa2022",
   "metadata": {},
   "source": [
    "#GELU activition function"
   ]
  },
  {
   "cell_type": "code",
   "execution_count": 13,
   "id": "a97f2f03",
   "metadata": {},
   "outputs": [],
   "source": [
    "import torch\n",
    "from torch import nn\n",
    "class GELU(nn.Module) : \n",
    "    def __init__(self) : \n",
    "        super().__init__()\n",
    "        \n",
    "    def forward(self,x) : \n",
    "        return 0.5 * x * (1 + torch.tanh(\n",
    "        torch.sqrt(torch.tensor(2.0 / torch.pi)) * \n",
    "        (x + 0.044715 * torch.pow(x,3))\n",
    "        ))"
   ]
  },
  {
   "cell_type": "code",
   "execution_count": 14,
   "id": "7b1c4147",
   "metadata": {},
   "outputs": [
    {
     "data": {
      "image/png": "[encoded data removed]",
      "text/plain": [
       "<Figure size 800x300 with 2 Axes>"
      ]
     },
     "metadata": {},
     "output_type": "display_data"
    }
   ],
   "source": [
    "import matplotlib.pyplot as plt\n",
    "gelu, relu = GELU(), nn.ReLU()\n",
    "\n",
    "# some sample data : \n",
    "x = torch.linspace(-3,3,100)\n",
    "y_gelu, y_relu = gelu(x), relu(x)\n",
    "\n",
    "# print(y_gelu)\n",
    "# print(y_relu)\n",
    "\n",
    "plt.figure(figsize = (8,3))\n",
    "for i, (y,label) in enumerate(zip([y_gelu, y_relu], [\"GELU\", \"ReLU\"]), 1) :\n",
    "    plt.subplot(1,2,i)\n",
    "    plt.plot(x,y)\n",
    "    plt.title(f\"{label} activation function\")\n",
    "    plt.xlabel(\"X\")\n",
    "    plt.ylabel(f\"{label}(x)\")\n",
    "    plt.grid(True)\n",
    "    \n",
    "plt.tight_layout()\n",
    "plt.show()\n",
    "\n",
    "# Dead neuron problem is solved in GELU."
   ]
  },
  {
   "cell_type": "code",
   "execution_count": 20,
   "id": "ab6f1efc",
   "metadata": {},
   "outputs": [],
   "source": [
    "# Feed Forward neural network\n",
    "# Input : [batch_size, num_tokens, emb_dim]\n",
    "# Linear --> GELU --> Linear\n",
    "\n",
    "class FeedForward(nn.Module) : \n",
    "    def __init__(self, cfg) : \n",
    "        super().__init__()\n",
    "        self.layers = nn.Sequential(\n",
    "            nn.Linear(cfg[\"emb_dim\"], 4*cfg[\"emb_dim\"]), # Expansion\n",
    "            GELU(), # Activation\n",
    "            nn.Linear(4*cfg[\"emb_dim\"], cfg[\"emb_dim\"]) # Contraction\n",
    "        )\n",
    "                          \n",
    "    def forward(self, x) :\n",
    "        # input : [batch_size, tokens, emb_dim]\n",
    "#         print(x.shape)\n",
    "        return self.layers(x)\n",
    "    \n",
    "        # 1st layer : [batch_size, tokens, 4*emb_dim]\n",
    "        # GELU : (preserves dim) : [b, num_tokens,4*emb_dim]\n",
    "        # 2nd layer : [batch_size, tokens, emb_dim]\n",
    "                "
   ]
  },
  {
   "cell_type": "code",
   "execution_count": 24,
   "id": "49cc1ecb",
   "metadata": {},
   "outputs": [
    {
     "name": "stdout",
     "output_type": "stream",
     "text": [
      "torch.Size([2, 3, 768])\n"
     ]
    },
    {
     "data": {
      "text/plain": [
       "torch.Size([2, 3, 768])"
      ]
     },
     "execution_count": 24,
     "metadata": {},
     "output_type": "execute_result"
    }
   ],
   "source": [
    "# print(batch.dtype)\n",
    "feed = FeedForward(GPT_2_config_124M)\n",
    "feed(torch.randn(2,3,768)).shape"
   ]
  },
  {
   "cell_type": "markdown",
   "id": "c228787e",
   "metadata": {},
   "source": [
    "The FeedForward module we implemented in this section plays a crucial role in enhancing the model's ability to learn from and generalize the data."
   ]
  },
  {
   "cell_type": "markdown",
   "id": "d2f13d8a",
   "metadata": {},
   "source": [
    "# SHORTCUT Connections"
   ]
  },
  {
   "cell_type": "code",
   "execution_count": 34,
   "id": "fd7a80c9",
   "metadata": {},
   "outputs": [],
   "source": [
    "import torch \n",
    "from torch import nn\n",
    "\n",
    "class DeepNeuralNetwork(nn.Module) : \n",
    "    def __init__(self,layer_sizes, use_shortcut) : \n",
    "        super().__init__()\n",
    "        self.use_shortcut =  use_shortcut\n",
    "        self.layers = nn.ModuleList(\n",
    "            [\n",
    "            nn.Sequential(nn.Linear(layer_sizes[0], layer_sizes[1]), GELU()),\n",
    "            nn.Sequential(nn.Linear(layer_sizes[1], layer_sizes[2]), GELU()),\n",
    "            nn.Sequential(nn.Linear(layer_sizes[2], layer_sizes[3]), GELU()),\n",
    "            nn.Sequential(nn.Linear(layer_sizes[3], layer_sizes[4]), GELU()),\n",
    "            nn.Sequential(nn.Linear(layer_sizes[4], layer_sizes[5]), GELU())\n",
    "            ]\n",
    "        )\n",
    "        \n",
    "    def forward(self, x) :\n",
    "        for layer in self.layers : \n",
    "            # compute the output :\n",
    "            layer_output = layer(x)\n",
    "            \n",
    "            # check for shortcut : \n",
    "            \n",
    "            if self.use_shortcut and x.shape == layer_output.shape : \n",
    "                x = x + layer_output\n",
    "            else : \n",
    "                x = layer_output\n",
    "        return x"
   ]
  },
  {
   "cell_type": "code",
   "execution_count": 35,
   "id": "0b1000b7",
   "metadata": {},
   "outputs": [
    {
     "data": {
      "text/plain": [
       "tensor([0.0610], grad_fn=<MulBackward0>)"
      ]
     },
     "execution_count": 35,
     "metadata": {},
     "output_type": "execute_result"
    }
   ],
   "source": [
    "layer_sizes = [3,3,3,3,3,1]\n",
    "\n",
    "sample_input = torch.tensor([1., 0., -1.])\n",
    "torch.manual_seed(123)\n",
    "model_without_shortcut = DeepNeuralNetwork(\n",
    "layer_sizes, use_shortcut= False)\n",
    "model_with_shortcuts = DeepNeuralNetwork(\n",
    "    layer_sizes, use_shortcut=True\n",
    ")\n",
    "\n",
    "# model_without_shortcut(sample_input)"
   ]
  },
  {
   "cell_type": "code",
   "execution_count": 52,
   "id": "6077720d",
   "metadata": {},
   "outputs": [],
   "source": [
    "def print_gradients(model,x) : \n",
    "    # Forward Pass : \n",
    "    output = model(x)\n",
    "    target = torch.tensor([0.])\n",
    "    \n",
    "    # Loss \n",
    "    loss = nn.MSELoss()\n",
    "    loss = loss(output, target)\n",
    "    \n",
    "    # Backpropogation to calculate gradient of each weight\n",
    "    \n",
    "    loss.backward()\n",
    "    \n",
    "    for name,param in model.named_parameters() : \n",
    "        # model.named_paramters outputs weights and bias layer by layer\n",
    "        if 'weight' in name : \n",
    "            print(f\"{name} has gradient mean of {param.grad.abs().mean().item()}\")\n",
    "            \n",
    "    "
   ]
  },
  {
   "cell_type": "code",
   "execution_count": 53,
   "id": "2ffe170e",
   "metadata": {},
   "outputs": [
    {
     "name": "stdout",
     "output_type": "stream",
     "text": [
      "layers.0.0.weight has gradient mean of 0.0016138870269060135\n",
      "layers.1.0.weight has gradient mean of 0.0009608927648514509\n",
      "layers.2.0.weight has gradient mean of 0.005721632856875658\n",
      "layers.3.0.weight has gradient mean of 0.0111909881234169\n",
      "layers.4.0.weight has gradient mean of 0.04039716720581055\n"
     ]
    }
   ],
   "source": [
    "print_gradients(model_without_shortcut, sample_input)\n"
   ]
  },
  {
   "cell_type": "code",
   "execution_count": 54,
   "id": "254d1be9",
   "metadata": {},
   "outputs": [
    {
     "name": "stdout",
     "output_type": "stream",
     "text": [
      "layers.0.0.weight has gradient mean of 0.22169798612594604\n",
      "layers.1.0.weight has gradient mean of 0.20694111287593842\n",
      "layers.2.0.weight has gradient mean of 0.3289700150489807\n",
      "layers.3.0.weight has gradient mean of 0.26657330989837646\n",
      "layers.4.0.weight has gradient mean of 1.3258544206619263\n"
     ]
    }
   ],
   "source": [
    "torch.manual_seed(123)\n",
    "model_with_shortcut = DeepNeuralNetwork(\n",
    "layer_sizes, use_shortcut=True\n",
    ")\n",
    "print_gradients(model_with_shortcut, sample_input)"
   ]
  },
  {
   "cell_type": "code",
   "execution_count": null,
   "id": "d406a51c",
   "metadata": {},
   "outputs": [],
   "source": []
  }
 ],
 "metadata": {
  "kernelspec": {
   "display_name": "Python Pytorch ENV",
   "language": "python",
   "name": "pytorch_env"
  },
  "language_info": {
   "codemirror_mode": {
    "name": "ipython",
    "version": 3
   },
   "file_extension": ".py",
   "mimetype": "text/x-python",
   "name": "python",
   "nbconvert_exporter": "python",
   "pygments_lexer": "ipython3",
   "version": "3.12.3"
  }
 },
 "nbformat": 4,
 "nbformat_minor": 5
}
