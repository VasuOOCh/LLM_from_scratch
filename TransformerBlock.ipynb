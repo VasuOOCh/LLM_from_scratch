{
 "cells": [
  {
   "cell_type": "code",
   "execution_count": 1,
   "id": "5c44ecf9",
   "metadata": {},
   "outputs": [],
   "source": [
    "GPT_CONFIG_124 = {\n",
    "    \"vocab_size\" : 50257,\n",
    "    \"context_length\" : 256,\n",
    "    \"emb_dim\" : 768,\n",
    "    \"n_heads\" : 12,\n",
    "    \"n_layers\" : 12,\n",
    "    \"drop_rate\" : 0.1,\n",
    "    \"qkv_bias\" : False\n",
    "}\n",
    "\n"
   ]
  },
  {
   "cell_type": "markdown",
   "id": "53616684",
   "metadata": {},
   "source": [
    "# Transformer Block "
   ]
  },
  {
   "cell_type": "code",
   "execution_count": 2,
   "id": "1d151196",
   "metadata": {},
   "outputs": [],
   "source": [
    "import torch\n",
    "from torch import nn\n",
    "\n",
    "class LayerNorm(nn.Module):\n",
    "    def __init__(self, emb_dim):\n",
    "        super().__init__()\n",
    "        self.eps = 1e-5\n",
    "        self.scale = nn.Parameter(torch.ones(emb_dim))\n",
    "        self.shift = nn.Parameter(torch.zeros(emb_dim))\n",
    "\n",
    "    def forward(self, x):\n",
    "        mean = x.mean(dim=-1, keepdim=True)\n",
    "        var = x.var(dim=-1, keepdim=True, unbiased=False)\n",
    "        norm_x = (x - mean) / torch.sqrt(var + self.eps)\n",
    "        return self.scale * norm_x + self.shift\n",
    "\n",
    "class GELU(nn.Module):\n",
    "    def __init__(self):\n",
    "        super().__init__()\n",
    "\n",
    "    def forward(self, x):\n",
    "        return 0.5 * x * (1 + torch.tanh(\n",
    "            torch.sqrt(torch.tensor(2.0 / torch.pi)) * \n",
    "            (x + 0.044715 * torch.pow(x, 3))\n",
    "        ))\n",
    "\n",
    "class FeedForward(nn.Module):\n",
    "    def __init__(self, cfg):\n",
    "        super().__init__()\n",
    "        self.layers = nn.Sequential(\n",
    "            nn.Linear(cfg[\"emb_dim\"], 4 * cfg[\"emb_dim\"]),\n",
    "            GELU(),\n",
    "            nn.Linear(4 * cfg[\"emb_dim\"], cfg[\"emb_dim\"]),\n",
    "        )\n",
    "\n",
    "    def forward(self, x):\n",
    "        return self.layers(x)"
   ]
  },
  {
   "cell_type": "code",
   "execution_count": 3,
   "id": "cf86cc8a",
   "metadata": {},
   "outputs": [],
   "source": [
    "class MultiHeadAttention(nn.Module):\n",
    "    def __init__(self, d_in, d_out, context_length, dropout, num_heads, qkv_bias=False):\n",
    "        super().__init__()\n",
    "        assert (d_out % num_heads == 0), \\\n",
    "            \"d_out must be divisible by num_heads\"\n",
    "\n",
    "        self.d_out = d_out\n",
    "        self.num_heads = num_heads\n",
    "        self.head_dim = d_out // num_heads # Reduce the projection dim to match desired output dim\n",
    "\n",
    "        self.W_query = nn.Linear(d_in, d_out, bias=qkv_bias)\n",
    "        self.W_key = nn.Linear(d_in, d_out, bias=qkv_bias)\n",
    "        self.W_value = nn.Linear(d_in, d_out, bias=qkv_bias)\n",
    "        self.out_proj = nn.Linear(d_out, d_out)  # Linear layer to combine head outputs\n",
    "        self.dropout = nn.Dropout(dropout)\n",
    "        self.register_buffer(\n",
    "            \"mask\",\n",
    "            torch.triu(torch.ones(context_length, context_length),\n",
    "                       diagonal=1)\n",
    "        )\n",
    "\n",
    "    def forward(self, x):\n",
    "        b, num_tokens, d_in = x.shape\n",
    "\n",
    "        keys = self.W_key(x) # Shape: (b, num_tokens, d_out)\n",
    "        queries = self.W_query(x)\n",
    "        values = self.W_value(x)\n",
    "\n",
    "        # We implicitly split the matrix by adding a `num_heads` dimension\n",
    "        # Unroll last dim: (b, num_tokens, d_out) -> (b, num_tokens, num_heads, head_dim)\n",
    "        keys = keys.view(b, num_tokens, self.num_heads, self.head_dim) \n",
    "        values = values.view(b, num_tokens, self.num_heads, self.head_dim)\n",
    "        queries = queries.view(b, num_tokens, self.num_heads, self.head_dim)\n",
    "\n",
    "        # Transpose: (b, num_tokens, num_heads, head_dim) -> (b, num_heads, num_tokens, head_dim)\n",
    "        keys = keys.transpose(1, 2)\n",
    "        queries = queries.transpose(1, 2)\n",
    "        values = values.transpose(1, 2)\n",
    "\n",
    "        # Compute scaled dot-product attention (aka self-attention) with a causal mask\n",
    "        attn_scores = queries @ keys.transpose(2, 3)  # Dot product for each head\n",
    "\n",
    "        # Original mask truncated to the number of tokens and converted to boolean\n",
    "        mask_bool = self.mask.bool()[:num_tokens, :num_tokens]\n",
    "\n",
    "        # Use the mask to fill attention scores\n",
    "        attn_scores.masked_fill_(mask_bool, -torch.inf)\n",
    "        \n",
    "        attn_weights = torch.softmax(attn_scores / keys.shape[-1]**0.5, dim=-1)\n",
    "        attn_weights = self.dropout(attn_weights)\n",
    "\n",
    "        # Shape: (b, num_tokens, num_heads, head_dim)\n",
    "        context_vec = (attn_weights @ values).transpose(1, 2) \n",
    "        \n",
    "        # Combine heads, where self.d_out = self.num_heads * self.head_dim\n",
    "        context_vec = context_vec.contiguous().view(b, num_tokens, self.d_out)\n",
    "        context_vec = self.out_proj(context_vec) # optional projection\n",
    "\n",
    "        return context_vec"
   ]
  },
  {
   "cell_type": "code",
   "execution_count": 4,
   "id": "f2472fe6",
   "metadata": {},
   "outputs": [],
   "source": [
    "class TransformerBlock(nn.Module) : \n",
    "    def __init__(self,cfg) :\n",
    "        super().__init__()\n",
    "        self.att = MultiHeadAttention(\n",
    "            d_in=cfg[\"emb_dim\"],\n",
    "            d_out=cfg[\"emb_dim\"],\n",
    "            context_length=cfg[\"context_length\"],\n",
    "            num_heads=cfg[\"n_heads\"],\n",
    "            dropout=cfg[\"drop_rate\"],\n",
    "            qkv_bias=cfg[\"qkv_bias\"])\n",
    "        self.ff = FeedForward(cfg)\n",
    "        self.norm1 = LayerNorm(cfg[\"emb_dim\"])\n",
    "        self.norm2 = LayerNorm(cfg[\"emb_dim\"])\n",
    "        self.drop_shortcut = nn.Dropout(cfg[\"drop_rate\"])\n",
    "        \n",
    "        \n",
    "    def forward(self, x) :\n",
    "        shortcut = x\n",
    "        # input dim : [batch_size, num_tokens,emb_dim]\n",
    "        x = self.norm1(x)\n",
    "        x = self.att(x) \n",
    "        # after the attention mechanism we get context vectors\n",
    "        x = self.drop_shortcut(x)\n",
    "        # dim : [batch_size, num_tokens, emb_dim]\n",
    "        \n",
    "        x = x + shortcut\n",
    "        shortcut = x\n",
    "        x = self.norm2(x)\n",
    "        x = self.ff(x)\n",
    "        x = self.drop_shortcut(x)\n",
    "        x = x + shortcut\n",
    "        \n",
    "        return x\n",
    "        "
   ]
  },
  {
   "cell_type": "code",
   "execution_count": 5,
   "id": "4a332a68",
   "metadata": {},
   "outputs": [
    {
     "name": "stdout",
     "output_type": "stream",
     "text": [
      "Number of parameters: 7085568\n",
      "torch.Size([2, 4, 768])\n",
      "torch.Size([2, 4, 768])\n"
     ]
    }
   ],
   "source": [
    "torch.manual_seed(123)\n",
    "x = torch.rand(2,4,768)\n",
    "# input : [batch_size, num_tokens, emb_dim]\n",
    "block = TransformerBlock(GPT_CONFIG_124)\n",
    "out = block(x)\n",
    "\n",
    "total_params = sum(p.numel() for p in block.parameters())\n",
    "print(f\"Number of parameters: {total_params}\")\n",
    "print(x.shape)\n",
    "print(out.shape)"
   ]
  },
  {
   "cell_type": "code",
   "execution_count": 6,
   "id": "823e1670",
   "metadata": {},
   "outputs": [],
   "source": [
    "## Final GPT Model : \n",
    "\n",
    "class GPTModel(nn.Module) :\n",
    "    def __init__(self, cfg) :\n",
    "        super().__init__();\n",
    "        self.token_emb = nn.Embedding(cfg[\"vocab_size\"], cfg[\"emb_dim\"])\n",
    "        self.pos_emb = nn.Embedding(cfg[\"context_length\"], cfg[\"emb_dim\"])\n",
    "        self.drop_emb = nn.Dropout(cfg[\"drop_rate\"])\n",
    "        \n",
    "        self.trf_blocks = nn.Sequential(\n",
    "            *[TransformerBlock(cfg) for _ in range(cfg[\"n_layers\"])]\n",
    "        )\n",
    "        \n",
    "        self.final_norm = LayerNorm(cfg[\"emb_dim\"])\n",
    "        self.out_head = nn.Linear(\n",
    "            cfg[\"emb_dim\"], cfg[\"vocab_size\"], bias = False\n",
    "        )\n",
    "        \n",
    "    def forward(self, in_idx) : \n",
    "        batch_size, seq_len = in_idx.shape\n",
    "        # seq_len == number of tokens\n",
    "        tok_embeds = self.token_emb(in_idx)\n",
    "        # assume a input has a 4 token : \n",
    "        # so the positions of the 4 tokens are 0,1,2,3 (torch.arange)\n",
    "        # pos_emb will find positional embedding for the 4 positions\n",
    "        pos_embeds = self.pos_emb(torch.arange(seq_len, device = in_idx.device))\n",
    "        x = tok_embeds + pos_embeds\n",
    "        # x ==> [batch_size, num_tokens, emb_dim]\n",
    "        x = self.drop_emb(x)\n",
    "        x = self.trf_blocks(x)\n",
    "        x = self.final_norm(x)\n",
    "        # x ==> [batch_size, num_tokens, emb_dim]\n",
    "        logits = self.out_head(x)\n",
    "        # logits ==> [batch_size, num_tokens, vocab_size]\n",
    "        return logits"
   ]
  },
  {
   "cell_type": "code",
   "execution_count": 7,
   "id": "97e60908",
   "metadata": {},
   "outputs": [
    {
     "name": "stdout",
     "output_type": "stream",
     "text": [
      "tensor([[6109, 3626, 6100,  345],\n",
      "        [6109, 1110, 6622,  257]])\n",
      "torch.Size([2, 4, 50257])\n",
      "tensor([[[-0.4708,  0.5737, -0.5967,  ...,  0.2019, -0.5665,  0.1800],\n",
      "         [-0.3895, -0.1978, -0.8885,  ...,  0.2242, -1.2341,  0.1752],\n",
      "         [ 0.6973, -0.3432, -0.6080,  ...,  0.3747, -0.6967,  0.1088],\n",
      "         [-0.2962, -0.6957, -1.1371,  ...,  0.3579,  0.3058, -0.2915]],\n",
      "\n",
      "        [[-0.1514,  0.3329, -0.9740,  ..., -0.1368, -0.6974, -0.1851],\n",
      "         [-0.4894, -0.3492, -0.9759,  ...,  0.2951, -0.3396,  0.2109],\n",
      "         [ 0.5082, -0.1425,  0.2549,  ...,  0.1618,  0.1304, -0.3092],\n",
      "         [-0.4146, -0.0514, -0.5187,  ..., -0.1869, -0.1303, -0.4969]]],\n",
      "       grad_fn=<UnsafeViewBackward0>)\n"
     ]
    }
   ],
   "source": [
    "torch.manual_seed(123)\n",
    "model = GPTModel(GPT_CONFIG_124)\n",
    "batch = torch.tensor([[6109, 3626, 6100,  345],\n",
    "        [6109, 1110, 6622,  257]])\n",
    "print(batch)\n",
    "out = model(batch)\n",
    "print(out.shape)\n",
    "print(out)"
   ]
  },
  {
   "cell_type": "code",
   "execution_count": 8,
   "id": "be587c0e",
   "metadata": {},
   "outputs": [],
   "source": [
    "# output shape [batch_size, num_tokens, vocab_size] represents that\n",
    "# for each input,there are num_tokens tokens, and for each token,\n",
    "# there are 50,000 words to look upon, and output for each token, \n",
    "# the ouput is from one of the 50,000 words"
   ]
  },
  {
   "cell_type": "markdown",
   "id": "ff12cf8d",
   "metadata": {},
   "source": [
    "# Params"
   ]
  },
  {
   "cell_type": "code",
   "execution_count": 9,
   "id": "073abb7e",
   "metadata": {},
   "outputs": [
    {
     "name": "stdout",
     "output_type": "stream",
     "text": [
      "162419712\n"
     ]
    }
   ],
   "source": [
    "total_params = sum(p.numel() for p in model.parameters())\n",
    "print(total_params)"
   ]
  },
  {
   "cell_type": "code",
   "execution_count": 10,
   "id": "3c32287e",
   "metadata": {},
   "outputs": [
    {
     "name": "stdout",
     "output_type": "stream",
     "text": [
      "Token embedding layer shape: torch.Size([50257, 768])\n",
      "Output layer shape: torch.Size([50257, 768])\n"
     ]
    }
   ],
   "source": [
    "print(\"Token embedding layer shape:\", model.token_emb.weight.shape)\n",
    "print(\"Output layer shape:\", model.out_head.weight.shape)"
   ]
  },
  {
   "cell_type": "code",
   "execution_count": 11,
   "id": "96bc176a",
   "metadata": {},
   "outputs": [
    {
     "name": "stdout",
     "output_type": "stream",
     "text": [
      "123822336\n"
     ]
    }
   ],
   "source": [
    "total_params_gpt2 = total_params - sum(p.numel() for p in model.out_head.parameters())\n",
    "print(total_params_gpt2)"
   ]
  },
  {
   "cell_type": "code",
   "execution_count": 12,
   "id": "b85302f6",
   "metadata": {},
   "outputs": [
    {
     "name": "stdout",
     "output_type": "stream",
     "text": [
      "Total size is 619.58 MB\n"
     ]
    }
   ],
   "source": [
    "# Weight tying :\n",
    "#  GPT-2 architecture is reusing the weights from the token \n",
    "# embedding layer in its output layer.\n",
    "\n",
    "\n",
    "# Memory : \n",
    "# each param : 32 bit float : 4 BYTES\n",
    "total_size_bytes = total_params * 4\n",
    "total_size_mb = total_size_bytes / (1024 * 1024)\n",
    "print(f\"Total size is {total_size_mb:.2f} MB\")"
   ]
  },
  {
   "cell_type": "code",
   "execution_count": 13,
   "id": "c151f560",
   "metadata": {},
   "outputs": [],
   "source": [
    "def generate_text_simple(model, idx, max_new_tokens, context_size) :\n",
    "    # idx is (batch_size, num_tokens)\n",
    "    \n",
    "    for _ in range(max_new_tokens) :\n",
    "        # crop the current context if it exceeds the supported context size :\n",
    "        # from last\n",
    "        idx_cond = idx[:, -context_size:]\n",
    "        # the above applies cropping for the last dimension only\n",
    "        \n",
    "        with torch.no_grad() : \n",
    "            logits = model(idx_cond)\n",
    "        # logits : [batch_size, num_tokens, 50,000 tokens]\n",
    "            \n",
    "        # extract the last one\n",
    "        logits = logits[:,-1, :]\n",
    "#         print(logits.shape)\n",
    "        # [batch_size, vocab_size]\n",
    "        # this represents : there are batch_size inputs in a given batch\n",
    "        # and for each input, there are 50,000 words available\n",
    "        \n",
    "        # probs :\n",
    "        probs = torch.softmax(logits, dim = -1)\n",
    "        \n",
    "        idx_next = torch.argmax(probs, dim = -1, keepdim = True)\n",
    "#         print(idx_next)\n",
    "#         print(idx_next.shape)\n",
    "        # idx_next : [batch_size, 1]\n",
    "        # for every input there is 1 ouput ready\n",
    "        idx = torch.cat((idx, idx_next),dim = -1)\n",
    "        # (batch_size, n_tokens + 1)\n",
    "        \n",
    "        # final output : [batch_size, num_tokens + n]\n",
    "        \n",
    "    return idx\n",
    "        \n",
    "        "
   ]
  },
  {
   "cell_type": "code",
   "execution_count": 14,
   "id": "feacee3a",
   "metadata": {},
   "outputs": [
    {
     "name": "stdout",
     "output_type": "stream",
     "text": [
      "tensor([[15496,    11,   314,   716]])\n"
     ]
    }
   ],
   "source": [
    "import tiktoken\n",
    "tokenizer = tiktoken.get_encoding(\"gpt2\")\n",
    "\n",
    "start_context = \"Hello, I am\"\n",
    "encoded = torch.tensor(tokenizer.encode(start_context)).unsqueeze(0)\n",
    "print(encoded)\n",
    "\n"
   ]
  },
  {
   "cell_type": "code",
   "execution_count": 15,
   "id": "d89b513e",
   "metadata": {},
   "outputs": [
    {
     "name": "stdout",
     "output_type": "stream",
     "text": [
      "tensor([[15496,    11,   314,   716, 13240, 11381,  4307,  7640, 16620, 34991]])\n"
     ]
    }
   ],
   "source": [
    "model.eval()\n",
    "out = generate_text_simple(\n",
    "    model,\n",
    "    idx = encoded,\n",
    "    max_new_tokens=6,\n",
    "    context_size=GPT_CONFIG_124[\"context_length\"]\n",
    ")\n",
    "print(out)"
   ]
  },
  {
   "cell_type": "code",
   "execution_count": 16,
   "id": "8ba17963",
   "metadata": {},
   "outputs": [
    {
     "name": "stdout",
     "output_type": "stream",
     "text": [
      "Hello, I am Laur inhab DistrinetalkQueue\n"
     ]
    }
   ],
   "source": [
    "decoded_text = tokenizer.decode(out.squeeze(dim = 0).tolist())\n",
    "print(decoded_text)"
   ]
  },
  {
   "cell_type": "code",
   "execution_count": 17,
   "id": "c3d9b6f1",
   "metadata": {},
   "outputs": [
    {
     "name": "stdout",
     "output_type": "stream",
     "text": [
      "Every effort moves you rentingetic wasnم refres RexMeCHicular stren\n"
     ]
    }
   ],
   "source": [
    "def text_to_token_ids(text, tokenizer) :\n",
    "    encoded = tokenizer.encode(text,allowed_special = {'<|endoftext|>'})\n",
    "    encoded_tensor = torch.tensor(encoded).unsqueeze(0)\n",
    "    # [batch_size, num_tokens] OR [no. of batches, batch_size]\n",
    "    \n",
    "    return encoded_tensor\n",
    "\n",
    "def tokens_ids_to_text(token_ids, tokenizer) :\n",
    "    # [batch_size, n_tokens + n(new tokens)]\n",
    "    flat = token_ids.squeeze(0);\n",
    "    return tokenizer.decode(flat.tolist())\n",
    "\n",
    "start_context = \"Every effort moves you\"\n",
    "tokenizer = tiktoken.get_encoding(\"gpt2\")\n",
    "\n",
    "token_ids = generate_text_simple(\n",
    "    model = model,\n",
    "    idx = text_to_token_ids(start_context, tokenizer),\n",
    "    max_new_tokens= 10,\n",
    "    context_size = GPT_CONFIG_124[\"context_length\"]\n",
    ")\n",
    "\n",
    "print(tokens_ids_to_text(token_ids, tokenizer))"
   ]
  },
  {
   "cell_type": "code",
   "execution_count": 18,
   "id": "dbd9f427",
   "metadata": {},
   "outputs": [
    {
     "name": "stdout",
     "output_type": "stream",
     "text": [
      "torch.Size([2, 3])\n"
     ]
    }
   ],
   "source": [
    "# Calculating the loss : \n",
    "inputs = torch.tensor([[16833, 3626, 6100], #\"Every effort moves\"\n",
    "                      [40, 1107, 588]]) \n",
    "\n",
    "targets = torch.tensor([[3626, 6100, 345],\n",
    "                       [1107, 588, 11311]]) # Effort moves you\n",
    "\n",
    "print(inputs.shape)"
   ]
  },
  {
   "cell_type": "code",
   "execution_count": 19,
   "id": "a0da9a2f",
   "metadata": {},
   "outputs": [
    {
     "name": "stdout",
     "output_type": "stream",
     "text": [
      "torch.Size([2, 3])\n"
     ]
    }
   ],
   "source": [
    "with torch.no_grad() :\n",
    "    logits = model(inputs)\n",
    "# print(logits.shape)\n",
    "\n",
    "probs = torch.softmax(logits, dim = -1)\n",
    "out = torch.argmax(probs, dim = -1)\n",
    "print(out.shape)"
   ]
  },
  {
   "cell_type": "code",
   "execution_count": 20,
   "id": "9bf6f538",
   "metadata": {},
   "outputs": [
    {
     "name": "stdout",
     "output_type": "stream",
     "text": [
      "Targets batch 1 :  effort moves you\n",
      "Targets batch 2 :  Armed heNetflix\n"
     ]
    }
   ],
   "source": [
    "print(f\"Targets batch 1 : {tokens_ids_to_text(targets[0], tokenizer)}\")\n",
    "print(f\"Targets batch 2 : {tokens_ids_to_text(out[0], tokenizer)}\")\n"
   ]
  },
  {
   "cell_type": "code",
   "execution_count": 21,
   "id": "262fbdab",
   "metadata": {},
   "outputs": [],
   "source": [
    "# Cross Entropy Loss :\n",
    "\n",
    "# this is easy bro !! Just chill out for now\n",
    "\n"
   ]
  },
  {
   "cell_type": "code",
   "execution_count": 22,
   "id": "84c46d6e",
   "metadata": {},
   "outputs": [],
   "source": [
    "text_idx = 0\n",
    "target_probs_1 = probs[text_idx, [0,1,2], targets[text_idx]]\n",
    "target_probs_1\n",
    "\n",
    "text_idx = 1\n",
    "target_probs_2 = probs[text_idx, [0,1,2], targets[text_idx]]\n",
    "\n",
    "# target_probs_2\n",
    "\n",
    "# the above are the probalitites of the target tokens in the softmaxed\n",
    "# logits(probs)\n"
   ]
  },
  {
   "cell_type": "code",
   "execution_count": 23,
   "id": "1da153b0",
   "metadata": {},
   "outputs": [
    {
     "name": "stdout",
     "output_type": "stream",
     "text": [
      "tensor([ -9.5042, -10.3796, -11.3677, -11.4798,  -9.7764, -12.2561])\n"
     ]
    }
   ],
   "source": [
    "# Compute the log of all probs :\n",
    "log_probs = torch.log(torch.cat((target_probs_1, target_probs_2)))\n",
    "print(log_probs)"
   ]
  },
  {
   "cell_type": "code",
   "execution_count": 24,
   "id": "3f6c26d0",
   "metadata": {},
   "outputs": [
    {
     "name": "stdout",
     "output_type": "stream",
     "text": [
      "tensor(-10.7940)\n"
     ]
    }
   ],
   "source": [
    "# Avg hese: \n",
    "avg_log_probs = torch.mean(log_probs)\n",
    "print(avg_log_probs)\n",
    "# goal is to make the avg log probs as large as possible\n",
    "# the largest possible val due to log : 0"
   ]
  },
  {
   "cell_type": "code",
   "execution_count": 25,
   "id": "68d7902b",
   "metadata": {},
   "outputs": [
    {
     "name": "stdout",
     "output_type": "stream",
     "text": [
      "tensor(10.7940)\n"
     ]
    }
   ],
   "source": [
    "neg_avg_log_probs = avg_log_probs * -1\n",
    "print(neg_avg_log_probs)\n",
    "## Now we have to minimize this as close to 0"
   ]
  },
  {
   "cell_type": "code",
   "execution_count": 26,
   "id": "e9093503",
   "metadata": {},
   "outputs": [],
   "source": [
    "file_path = \"the-verdict.txt\"\n",
    "with open(file_path, \"r\", encoding=\"utf-8\") as file :\n",
    "    text_data = file.read()\n",
    "    "
   ]
  },
  {
   "cell_type": "code",
   "execution_count": 27,
   "id": "047305cd",
   "metadata": {},
   "outputs": [
    {
     "data": {
      "text/plain": [
       "'it for me! The Strouds stand alone, and happen once--but there\\'s no exterminating our kind of art.\"'"
      ]
     },
     "execution_count": 27,
     "metadata": {},
     "output_type": "execute_result"
    }
   ],
   "source": [
    "text_data[-99:]"
   ]
  },
  {
   "cell_type": "code",
   "execution_count": 28,
   "id": "13b90024",
   "metadata": {},
   "outputs": [
    {
     "name": "stdout",
     "output_type": "stream",
     "text": [
      "20479\n",
      "5145\n"
     ]
    }
   ],
   "source": [
    "total_characters = len(text_data)\n",
    "total_tokens = len(tokenizer.encode(text_data))\n",
    "print(total_characters)\n",
    "print(total_tokens)"
   ]
  },
  {
   "cell_type": "code",
   "execution_count": 29,
   "id": "28610286",
   "metadata": {},
   "outputs": [],
   "source": [
    "from torch.utils.data import Dataset, DataLoader\n",
    "\n",
    "class GPTDatasetV1(Dataset) : \n",
    "    def __init__(self, txt, tokenizer, max_length, stride) : \n",
    "        self.input_ids = []\n",
    "        self.target_ids = []\n",
    "        \n",
    "        token_ids = tokenizer.encode(txt, allowed_special={\"<|endoftext|>\"})\n",
    "        \n",
    "        for i in range(0,len(token_ids) - max_length, stride) :\n",
    "            input_chunk = token_ids[i:i+max_length]\n",
    "            target_chunk = token_ids[i+1 : i + max_length + 1]\n",
    "            self.input_ids.append(torch.tensor(input_chunk))\n",
    "            self.target_ids.append(torch.tensor(target_chunk))\n",
    "            \n",
    "    def __len__(self) : \n",
    "        return len(self.input_ids)\n",
    "        \n",
    "    def __getitem__(self, idx) : \n",
    "        return self.input_ids[idx], self.target_ids[idx]\n",
    "    "
   ]
  },
  {
   "cell_type": "code",
   "execution_count": 30,
   "id": "53660731",
   "metadata": {},
   "outputs": [],
   "source": [
    "# DataLoader\n",
    "def create_dataloader_v1(txt, batch_size = 4, max_length = 256, stride = 128, shuffle = True, drop_last = True, num_workers = 0) : \n",
    "    \n",
    "    tokenizer = tiktoken.get_encoding(\"gpt2\")\n",
    "    \n",
    "    dataset = GPTDatasetV1(txt, tokenizer, max_length, stride)\n",
    "    \n",
    "    # Dataloader : \n",
    "    dataloader = DataLoader(\n",
    "        dataset,\n",
    "        batch_size = batch_size,\n",
    "        shuffle = shuffle,\n",
    "        drop_last = drop_last,\n",
    "        num_workers = num_workers\n",
    "    )\n",
    "    \n",
    "    return dataloader\n",
    "    "
   ]
  },
  {
   "cell_type": "code",
   "execution_count": 31,
   "id": "5b852fc2",
   "metadata": {},
   "outputs": [
    {
     "data": {
      "text/plain": [
       "(torch.Size([4, 256]), torch.Size([4, 256]))"
      ]
     },
     "execution_count": 31,
     "metadata": {},
     "output_type": "execute_result"
    }
   ],
   "source": [
    "dataloader = create_dataloader_v1(text_data)\n",
    "\n",
    "X, y = next(iter(dataloader))\n",
    "X.shape, y.shape"
   ]
  },
  {
   "cell_type": "code",
   "execution_count": 32,
   "id": "8c551cfe",
   "metadata": {},
   "outputs": [],
   "source": [
    "# splitting the data into train and test \n",
    "train_ratio = 0.90\n",
    "split_idx = int(len(text_data)*train_ratio)\n",
    "\n",
    "train_data = text_data[:split_idx]\n",
    "val_data = text_data[split_idx:]\n",
    "\n",
    "torch.manual_seed(123)\n",
    "\n",
    "train_loader = create_dataloader_v1(\n",
    "    train_data,\n",
    "    batch_size = 2,\n",
    "    max_length=GPT_CONFIG_124[\"context_length\"],\n",
    "    stride = GPT_CONFIG_124[\"context_length\"],\n",
    "    drop_last = True,\n",
    "    shuffle = True,\n",
    "    num_workers=0\n",
    ")\n",
    "\n",
    "val_loader = create_dataloader_v1(\n",
    "    val_data,\n",
    "    batch_size = 2,\n",
    "    max_length=GPT_CONFIG_124[\"context_length\"],\n",
    "    stride = GPT_CONFIG_124[\"context_length\"],\n",
    "    drop_last = True,\n",
    "    shuffle = True,\n",
    "    num_workers=0\n",
    ")\n"
   ]
  },
  {
   "cell_type": "code",
   "execution_count": 33,
   "id": "1a7f58e3",
   "metadata": {},
   "outputs": [
    {
     "name": "stdout",
     "output_type": "stream",
     "text": [
      "torch.Size([2, 256]) torch.Size([2, 256])\n",
      "torch.Size([2, 256]) torch.Size([2, 256])\n",
      "torch.Size([2, 256]) torch.Size([2, 256])\n",
      "torch.Size([2, 256]) torch.Size([2, 256])\n",
      "torch.Size([2, 256]) torch.Size([2, 256])\n",
      "torch.Size([2, 256]) torch.Size([2, 256])\n",
      "torch.Size([2, 256]) torch.Size([2, 256])\n",
      "torch.Size([2, 256]) torch.Size([2, 256])\n",
      "torch.Size([2, 256]) torch.Size([2, 256])\n",
      "validation loader\n",
      "torch.Size([2, 256]) torch.Size([2, 256])\n",
      "Number of batches :  9\n"
     ]
    }
   ],
   "source": [
    "for X,y in train_loader : \n",
    "    print(X.shape, y.shape)\n",
    "    \n",
    "print(\"validation loader\")\n",
    "for X,y in val_loader : \n",
    "    print(X.shape, y.shape)\n",
    "    \n",
    "print(\"Number of batches : \", len(train_loader))"
   ]
  },
  {
   "cell_type": "code",
   "execution_count": 34,
   "id": "6ad0cc69",
   "metadata": {},
   "outputs": [],
   "source": [
    "def calc_loss_batch(input_batch, target_batch, model, device) : \n",
    "    input_batch, target_batch = input_batch.to(device), target_batch.to(device)\n",
    "    logits = model(input_batch)\n",
    "    loss = torch.nn.functional.cross_entropy(logits.flatten(0,1), target_batch.flatten())\n",
    "    \n",
    "    return loss\n",
    "\n",
    "def calc_loss_loader(data_loader, model, device, num_batches=None) : \n",
    "    total_loss = 0.\n",
    "    \n",
    "    if len(data_loader) == 0 : \n",
    "        return float(\"nan\")\n",
    "    elif num_batches is None : \n",
    "        num_batches = len(data_loader)\n",
    "    else : \n",
    "        num_batches = min(num_batches, len(data_loader))\n",
    "        \n",
    "    for i, (input_batch, target_batch) in enumerate(data_loader) : \n",
    "        if i < num_batches : \n",
    "            loss = calc_loss_batch(input_batch, target_batch, model, device)\n",
    "            total_loss += loss.item()\n",
    "        else :\n",
    "            break\n",
    "    return total_loss / num_batches # returning the average loss"
   ]
  },
  {
   "cell_type": "code",
   "execution_count": 35,
   "id": "0dc70ed1",
   "metadata": {},
   "outputs": [
    {
     "data": {
      "text/plain": [
       "device(type='cuda')"
      ]
     },
     "execution_count": 35,
     "metadata": {},
     "output_type": "execute_result"
    }
   ],
   "source": [
    "device = torch.device(\"cuda\" if torch.cuda.is_available() else \"cpu\")\n",
    "device"
   ]
  },
  {
   "cell_type": "code",
   "execution_count": 36,
   "id": "820e777e",
   "metadata": {},
   "outputs": [
    {
     "name": "stdout",
     "output_type": "stream",
     "text": [
      "Training loss :  10.987583796183268\n",
      "Validation loss :  10.981104850769043\n"
     ]
    }
   ],
   "source": [
    "model.to(device)\n",
    "\n",
    "torch.manual_seed(123)\n",
    "\n",
    "with torch.no_grad() : \n",
    "    train_loss = calc_loss_loader(train_loader, model, device)\n",
    "    val_loss = calc_loss_loader(val_loader, model, device)\n",
    "\n",
    "print(\"Training loss : \", train_loss)\n",
    "print(\"Validation loss : \", val_loss)"
   ]
  },
  {
   "cell_type": "code",
   "execution_count": 37,
   "id": "dbebaf19",
   "metadata": {},
   "outputs": [],
   "source": [
    "# Coding the training loop of the GPT 2 : \n",
    "\n",
    "def train_model_simple(model, train_loader, test_loader, optimizer, device, num_epochs,\n",
    "                      eval_freq, eval_iter, start_context, tokenizer) : \n",
    "    \n",
    "    train_losses, val_losses, track_tokens_seen = [], [], []\n",
    "    \n",
    "    tokens_seen, global_step = 0, -1\n",
    "    for epoch in range(num_epochs) :\n",
    "        model.train() # training mode :\n",
    "        \n",
    "        # strict training :\n",
    "        for input_batch, target_batch in train_loader : \n",
    "            optimizer.zero_grad() # reset the gradients\n",
    "            loss = calc_loss_batch(input_batch, target_batch, model, device)\n",
    "            loss.backward() # update the loss gradients\n",
    "            optimizer.step() #update the model weights\n",
    "            tokens_seen += input_batch.numel() # returns the total tokens in input_batch\n",
    "            global_step += 1\n",
    "            \n",
    "            # optional evaluation step\n",
    "            if global_step % eval_freq == 0: \n",
    "                train_loss, val_loss = evaluate_model(\n",
    "                model, train_loader, val_loader, device, eval_iter\n",
    "                )\n",
    "                train_losses.append(train_loss)\n",
    "                val_losses.append(val_loss)\n",
    "                track_tokens_seen.append(tokens_seen)\n",
    "                print(f\"Epoch : {epoch} (Step {global_step:06d}) :\")\n",
    "                print(f\"Train loss {train_loss:.3f}, Val loss : {val_loss:.3f}\")\n",
    "            \n",
    "        # Print a sample text after each epoch\n",
    "        generate_and_print_sample(\n",
    "            model, tokenizer, device, start_context\n",
    "        )\n",
    "        \n",
    "    return train_losses, val_losses, track_tokens_seen\n",
    "            "
   ]
  },
  {
   "cell_type": "code",
   "execution_count": 38,
   "id": "d2cfdea3",
   "metadata": {},
   "outputs": [],
   "source": [
    "def evaluate_model(model, train_loader, val_loader, device, eval_iter) : \n",
    "    model.eval()\n",
    "    with torch.no_grad() : \n",
    "        train_loss = calc_loss_loader(train_loader,model, device, num_batches = eval_iter)\n",
    "        val_loss = calc_loss_loader(val_loader, model, device, num_batches=eval_iter)\n",
    "    model.train()\n",
    "    return train_loss, val_loss"
   ]
  },
  {
   "cell_type": "code",
   "execution_count": 39,
   "id": "ba26c1df",
   "metadata": {},
   "outputs": [],
   "source": [
    "def generate_and_print_sample(model, tokenizer, device, start_context):\n",
    "    model.eval()\n",
    "    context_size = model.pos_emb.weight.shape[0]\n",
    "    encoded = text_to_token_ids(start_context, tokenizer).to(device)\n",
    "    # encoded : [batch_size = 1, num_tokens]\n",
    "    with torch.no_grad():\n",
    "        token_ids = generate_text_simple(\n",
    "            model=model, idx=encoded,\n",
    "            max_new_tokens=50, context_size=context_size\n",
    "        )\n",
    "    decoded_text = tokens_ids_to_text(token_ids, tokenizer)\n",
    "    print(decoded_text.replace(\"\\n\", \" \"))  # Compact print format\n",
    "    model.train()"
   ]
  },
  {
   "cell_type": "code",
   "execution_count": 41,
   "id": "a1216e52",
   "metadata": {},
   "outputs": [
    {
     "name": "stdout",
     "output_type": "stream",
     "text": [
      "Epoch : 0 (Step 000000) :\n",
      "Train loss 9.825, Val loss : 9.931\n",
      "Epoch : 0 (Step 000005) :\n",
      "Train loss 7.924, Val loss : 8.341\n",
      "Every effort moves you,,,,,,,,,,,,,,.                                   \n",
      "Epoch : 1 (Step 000010) :\n",
      "Train loss 6.587, Val loss : 7.044\n",
      "Epoch : 1 (Step 000015) :\n",
      "Train loss 5.987, Val loss : 6.591\n",
      "Every effort moves you, the, the, the, the, the, the, the. \", the,,, the,, the,,, the,, the, and, the, the,, the, the, the,, the,\n",
      "Epoch : 2 (Step 000020) :\n",
      "Train loss 15.786, Val loss : 15.871\n",
      "Epoch : 2 (Step 000025) :\n",
      "Train loss 5.587, Val loss : 6.444\n",
      "Every effort moves you.  \"--. I had. I had been. G. I had, and I had. Gis, and, and. I had. I had to the his his the--, and, and--. Gis. I\n",
      "Epoch : 3 (Step 000030) :\n",
      "Train loss 5.026, Val loss : 6.349\n",
      "Epoch : 3 (Step 000035) :\n",
      "Train loss 4.695, Val loss : 6.247\n",
      "Every effort moves you, I was, I had the of the to the picture. \"I had to the picture, I was, I had to me, I had the the of the, I had the picture to the, I had the, I had the\n",
      "Epoch : 4 (Step 000040) :\n",
      "Train loss 4.131, Val loss : 6.233\n",
      "Every effort moves you know the                                      \", and, and, and he was his\n",
      "Epoch : 5 (Step 000045) :\n",
      "Train loss 3.500, Val loss : 6.195\n",
      "Epoch : 5 (Step 000050) :\n",
      "Train loss 3.135, Val loss : 6.176\n",
      "Every effort moves you know the fact, and pushed one of the donkey, and Mrs.                            \"I turned, I, I had\n",
      "Epoch : 6 (Step 000055) :\n",
      "Train loss 2.705, Val loss : 6.173\n",
      "Epoch : 6 (Step 000060) :\n",
      "Train loss 2.050, Val loss : 6.185\n",
      "Every effort moves you?\"     I glanced after him, and a little of a and in the picture, with a little, the fact, in the moment--as Jack himself, as his pictures's his pictures, and down the room, with a\n",
      "Epoch : 7 (Step 000065) :\n",
      "Train loss 1.700, Val loss : 6.222\n",
      "Epoch : 7 (Step 000070) :\n",
      "Train loss 1.308, Val loss : 6.172\n",
      "Every effort moves you?\" \"I didn't you know it--I turned the his last word.    \"I didn't know. \"Oh, and I had a little him--and I had the, and down the room, I had\n",
      "Epoch : 8 (Step 000075) :\n",
      "Train loss 1.060, Val loss : 6.294\n",
      "Epoch : 8 (Step 000080) :\n",
      "Train loss 0.869, Val loss : 6.360\n",
      "Every effort moves you?\"  \"Yes--quite insensible to the irony. She wanted him vindicated--and by me!\"  He laughed again, and threw back his head to look up at the honour being _mine_--because he didn't want\n",
      "Epoch : 9 (Step 000085) :\n",
      "Train loss 0.597, Val loss : 6.427\n",
      "Every effort moves you?\"  \"Yes--quite insensible to the irony. She wanted him vindicated--and by me!\"  He laughed again, and threw back his head to look up at the sketch of the donkey. \"There were days when I\n",
      "Training completed in 0.50 minutes.\n"
     ]
    }
   ],
   "source": [
    "import time\n",
    "start_time = time.time()\n",
    "\n",
    "torch.manual_seed(123)\n",
    "model = GPTModel(GPT_CONFIG_124)\n",
    "model.to(device)\n",
    "\n",
    "optimizer = torch.optim.AdamW(model.parameters(), lr = 0.0004, weight_decay=0.1)\n",
    "\n",
    "num_epochs = 10\n",
    "\n",
    "train_losses, val_losses, tokens_seen = train_model_simple(\n",
    "    model, train_loader, val_loader, optimizer, device,\n",
    "    num_epochs=num_epochs, eval_freq=5, eval_iter=5,\n",
    "    start_context=\"Every effort moves you\", tokenizer=tokenizer\n",
    ")\n",
    "\n",
    "end_time = time.time()\n",
    "execution_time_minutes = (end_time - start_time) / 60\n",
    "print(f\"Training completed in {execution_time_minutes:.2f} minutes.\")"
   ]
  },
  {
   "cell_type": "code",
   "execution_count": 42,
   "id": "0f880387",
   "metadata": {},
   "outputs": [
    {
     "data": {
      "image/png": "[encoded data removed]",
      "text/plain": [
       "<Figure size 500x300 with 2 Axes>"
      ]
     },
     "metadata": {},
     "output_type": "display_data"
    }
   ],
   "source": [
    "import matplotlib.pyplot as plt\n",
    "from matplotlib.ticker import MaxNLocator\n",
    "\n",
    "\n",
    "def plot_losses(epochs_seen, tokens_seen, train_losses, val_losses):\n",
    "    fig, ax1 = plt.subplots(figsize=(5, 3))\n",
    "\n",
    "    # Plot training and validation loss against epochs\n",
    "    ax1.plot(epochs_seen, train_losses, label=\"Training loss\")\n",
    "    ax1.plot(epochs_seen, val_losses, linestyle=\"-.\", label=\"Validation loss\")\n",
    "    ax1.set_xlabel(\"Epochs\")\n",
    "    ax1.set_ylabel(\"Loss\")\n",
    "    ax1.legend(loc=\"upper right\")\n",
    "    ax1.xaxis.set_major_locator(MaxNLocator(integer=True))  # only show integer labels on x-axis\n",
    "\n",
    "    # Create a second x-axis for tokens seen\n",
    "    ax2 = ax1.twiny()  # Create a second x-axis that shares the same y-axis\n",
    "    ax2.plot(tokens_seen, train_losses, alpha=0)  # Invisible plot for aligning ticks\n",
    "    ax2.set_xlabel(\"Tokens seen\")\n",
    "\n",
    "    fig.tight_layout()  # Adjust layout to make room\n",
    "    plt.savefig(\"loss-plot.pdf\")\n",
    "    plt.show()\n",
    "\n",
    "epochs_tensor = torch.linspace(0, num_epochs, len(train_losses))\n",
    "plot_losses(epochs_tensor, tokens_seen, train_losses, val_losses)"
   ]
  },
  {
   "cell_type": "code",
   "execution_count": null,
   "id": "c4b78531",
   "metadata": {},
   "outputs": [],
   "source": []
  }
 ],
 "metadata": {
  "kernelspec": {
   "display_name": "Python Pytorch ENV",
   "language": "python",
   "name": "pytorch_env"
  },
  "language_info": {
   "codemirror_mode": {
    "name": "ipython",
    "version": 3
   },
   "file_extension": ".py",
   "mimetype": "text/x-python",
   "name": "python",
   "nbconvert_exporter": "python",
   "pygments_lexer": "ipython3",
   "version": "3.12.3"
  }
 },
 "nbformat": 4,
 "nbformat_minor": 5
}
