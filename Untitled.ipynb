{
 "cells": [
  {
   "cell_type": "code",
   "execution_count": 1,
   "id": "bcd7372e",
   "metadata": {},
   "outputs": [],
   "source": [
    "import torch"
   ]
  },
  {
   "cell_type": "code",
   "execution_count": 2,
   "id": "6504f825",
   "metadata": {},
   "outputs": [],
   "source": [
    "inputs = torch.tensor(\n",
    "  [[0.43, 0.15, 0.89], # Your     (x^1)\n",
    "   [0.55, 0.87, 0.66], # journey  (x^2)\n",
    "   [0.57, 0.85, 0.64], # starts   (x^3)\n",
    "   [0.22, 0.58, 0.33], # with     (x^4)\n",
    "   [0.77, 0.25, 0.10], # one      (x^5)\n",
    "   [0.05, 0.80, 0.55]] # step     (x^6)\n",
    ")"
   ]
  },
  {
   "cell_type": "code",
   "execution_count": 3,
   "id": "c35e6a8d",
   "metadata": {},
   "outputs": [],
   "source": [
    "input_size = inputs.shape[0]\n",
    "masked_mat = torch.tril(torch.ones(input_size,input_size))"
   ]
  },
  {
   "cell_type": "code",
   "execution_count": 4,
   "id": "17ad7d49",
   "metadata": {},
   "outputs": [],
   "source": [
    "from torch import nn\n",
    "class causualAttentionb_v1(nn.Module) : \n",
    "    def __init__(self, d_in, d_out, qkv_bias=False) : \n",
    "        super().__init__()\n",
    "        # nn.Linear also creates a trainable matrix of in_dim X out_dim\n",
    "        self.W_query = nn.Linear(d_in, d_out, bias = qkv_bias)\n",
    "        self.W_key = nn.Linear(d_in, d_out, bias = qkv_bias)\n",
    "        self.W_value = nn.Linear(d_in, d_out, bias = qkv_bias)\n",
    "        \n",
    "    def forward(self, x) :\n",
    "#         x is input : \n",
    "        queries = self.W_query(x)\n",
    "        keys = self.W_key(x)\n",
    "        values = self.W_value(x)\n",
    "        \n",
    "        attn_scores = queries @ keys.T\n",
    "        attn_weights = torch.softmax(attn_scores / keys.shape[-1]**0.5, dim = -1)\n",
    "        \n",
    "        input_size = inputs.shape[0]\n",
    "        masked_mat = torch.tril(torch.ones(input_size,input_size))\n",
    "        print(masked_mat)\n",
    "        \n",
    "        masked_attn_weights = attn_weights * masked_mat\n",
    "        row_sums = masked_attn_weights.sum(dim = 1, keepdim = True)\n",
    "        masked_attn_weights = masked_attn_weights / row_sums\n",
    "#         attn_weights = torch.softmax(attn_weights, dim = -1)\n",
    "        print(masked_attn_weights)\n",
    "        \n",
    "        context_vectors = attn_weights @ values\n",
    "        return context_vectors\n"
   ]
  },
  {
   "cell_type": "code",
   "execution_count": 5,
   "id": "42b4a2bf",
   "metadata": {},
   "outputs": [
    {
     "name": "stdout",
     "output_type": "stream",
     "text": [
      "tensor([[1., 0., 0., 0., 0., 0.],\n",
      "        [1., 1., 0., 0., 0., 0.],\n",
      "        [1., 1., 1., 0., 0., 0.],\n",
      "        [1., 1., 1., 1., 0., 0.],\n",
      "        [1., 1., 1., 1., 1., 0.],\n",
      "        [1., 1., 1., 1., 1., 1.]])\n",
      "tensor([[1.0000, 0.0000, 0.0000, 0.0000, 0.0000, 0.0000],\n",
      "        [0.4724, 0.5276, 0.0000, 0.0000, 0.0000, 0.0000],\n",
      "        [0.3089, 0.3450, 0.3462, 0.0000, 0.0000, 0.0000],\n",
      "        [0.2390, 0.2542, 0.2547, 0.2521, 0.0000, 0.0000],\n",
      "        [0.1881, 0.2040, 0.2044, 0.1960, 0.2075, 0.0000],\n",
      "        [0.1570, 0.1676, 0.1679, 0.1682, 0.1747, 0.1646]],\n",
      "       grad_fn=<DivBackward0>)\n"
     ]
    },
    {
     "data": {
      "text/plain": [
       "tensor([[ 0.2194, -0.0643],\n",
       "        [ 0.2214, -0.0649],\n",
       "        [ 0.2214, -0.0649],\n",
       "        [ 0.2200, -0.0645],\n",
       "        [ 0.2206, -0.0648],\n",
       "        [ 0.2200, -0.0645]], grad_fn=<MmBackward0>)"
      ]
     },
     "execution_count": 5,
     "metadata": {},
     "output_type": "execute_result"
    }
   ],
   "source": [
    "c_attn = causualAttentionb_v1(3,2)\n",
    "c_attn(inputs)"
   ]
  },
  {
   "cell_type": "code",
   "execution_count": 6,
   "id": "52e0ede4",
   "metadata": {},
   "outputs": [],
   "source": [
    "from torch import nn\n",
    "torch.manual_seed(123)\n",
    "class causualAttentionb_v2(nn.Module) : \n",
    "    def __init__(self, d_in, d_out, qkv_bias=False) : \n",
    "        super().__init__()\n",
    "        # nn.Linear also creates a trainable matrix of in_dim X out_dim\n",
    "        self.W_query = nn.Linear(d_in, d_out, bias = qkv_bias)\n",
    "        self.W_key = nn.Linear(d_in, d_out, bias = qkv_bias)\n",
    "        self.W_value = nn.Linear(d_in, d_out, bias = qkv_bias)\n",
    "        \n",
    "    def forward(self, x) :\n",
    "#         x is input : \n",
    "        queries = self.W_query(x)\n",
    "        keys = self.W_key(x)\n",
    "        values = self.W_value(x)\n",
    "        \n",
    "        attn_scores = queries @ keys.T\n",
    "#         attn_weights = torch.softmax(attn_scores / keys.shape[-1]**0.5, dim = -1)\n",
    "        print(attn_scores)\n",
    "        input_size = inputs.shape[0]\n",
    "        mask = torch.triu(torch.ones(input_size,input_size), diagonal = 1)\n",
    "        print(mask)\n",
    "        masked = attn_scores.masked_fill(mask.bool(), -torch.inf)\n",
    "        print(masked)\n",
    "        \n",
    "        masked_attn_weights = torch.softmax(masked / keys.shape[-1]**0.5, dim = -1)\n",
    "        print(masked_attn_weights)\n",
    "        \n",
    "        context_vectors = masked_attn_weights @ values\n",
    "        return context_vectors"
   ]
  },
  {
   "cell_type": "code",
   "execution_count": 7,
   "id": "c6dc77e3",
   "metadata": {},
   "outputs": [
    {
     "name": "stdout",
     "output_type": "stream",
     "text": [
      "tensor([[0.3111, 0.3479, 0.3471, 0.1714, 0.2350, 0.1928],\n",
      "        [0.1655, 0.2602, 0.2576, 0.1445, 0.1384, 0.1790],\n",
      "        [0.1667, 0.2602, 0.2577, 0.1443, 0.1391, 0.1784],\n",
      "        [0.0510, 0.1080, 0.1064, 0.0643, 0.0476, 0.0835],\n",
      "        [0.1415, 0.1875, 0.1863, 0.0987, 0.1121, 0.1174],\n",
      "        [0.0476, 0.1192, 0.1171, 0.0731, 0.0477, 0.0966]],\n",
      "       grad_fn=<MmBackward0>)\n",
      "tensor([[0., 1., 1., 1., 1., 1.],\n",
      "        [0., 0., 1., 1., 1., 1.],\n",
      "        [0., 0., 0., 1., 1., 1.],\n",
      "        [0., 0., 0., 0., 1., 1.],\n",
      "        [0., 0., 0., 0., 0., 1.],\n",
      "        [0., 0., 0., 0., 0., 0.]])\n",
      "tensor([[0.3111,   -inf,   -inf,   -inf,   -inf,   -inf],\n",
      "        [0.1655, 0.2602,   -inf,   -inf,   -inf,   -inf],\n",
      "        [0.1667, 0.2602, 0.2577,   -inf,   -inf,   -inf],\n",
      "        [0.0510, 0.1080, 0.1064, 0.0643,   -inf,   -inf],\n",
      "        [0.1415, 0.1875, 0.1863, 0.0987, 0.1121,   -inf],\n",
      "        [0.0476, 0.1192, 0.1171, 0.0731, 0.0477, 0.0966]],\n",
      "       grad_fn=<MaskedFillBackward0>)\n",
      "tensor([[1.0000, 0.0000, 0.0000, 0.0000, 0.0000, 0.0000],\n",
      "        [0.4833, 0.5167, 0.0000, 0.0000, 0.0000, 0.0000],\n",
      "        [0.3190, 0.3408, 0.3402, 0.0000, 0.0000, 0.0000],\n",
      "        [0.2445, 0.2545, 0.2542, 0.2468, 0.0000, 0.0000],\n",
      "        [0.1994, 0.2060, 0.2058, 0.1935, 0.1953, 0.0000],\n",
      "        [0.1624, 0.1709, 0.1706, 0.1654, 0.1625, 0.1682]],\n",
      "       grad_fn=<SoftmaxBackward0>)\n"
     ]
    },
    {
     "data": {
      "text/plain": [
       "tensor([[-0.4519,  0.2216],\n",
       "        [-0.5874,  0.0058],\n",
       "        [-0.6300, -0.0632],\n",
       "        [-0.5675, -0.0843],\n",
       "        [-0.5526, -0.0981],\n",
       "        [-0.5299, -0.1081]], grad_fn=<MmBackward0>)"
      ]
     },
     "execution_count": 7,
     "metadata": {},
     "output_type": "execute_result"
    }
   ],
   "source": [
    "c_attn = causualAttentionb_v2(3,2)\n",
    "c_attn(inputs)"
   ]
  },
  {
   "cell_type": "markdown",
   "id": "1fad3f6e",
   "metadata": {},
   "source": [
    "## Creating dropouts"
   ]
  },
  {
   "cell_type": "code",
   "execution_count": 8,
   "id": "7d53accb",
   "metadata": {},
   "outputs": [
    {
     "name": "stdout",
     "output_type": "stream",
     "text": [
      "tensor([[1., 1., 1., 1., 1., 1.],\n",
      "        [1., 1., 1., 1., 1., 1.],\n",
      "        [1., 1., 1., 1., 1., 1.],\n",
      "        [1., 1., 1., 1., 1., 1.],\n",
      "        [1., 1., 1., 1., 1., 1.],\n",
      "        [1., 1., 1., 1., 1., 1.]])\n",
      "tensor([[0., 0., 2., 2., 0., 2.],\n",
      "        [2., 0., 2., 0., 2., 0.],\n",
      "        [2., 2., 0., 0., 2., 0.],\n",
      "        [0., 2., 2., 2., 2., 0.],\n",
      "        [0., 0., 0., 0., 0., 2.],\n",
      "        [2., 2., 0., 0., 2., 2.]])\n"
     ]
    }
   ],
   "source": [
    "ones_mat = torch.ones(6,6)\n",
    "print(ones_mat)\n",
    "dropout = torch.nn.Dropout(0.5)\n",
    "print(dropout(ones_mat))"
   ]
  },
  {
   "cell_type": "code",
   "execution_count": 9,
   "id": "1cd9ae97",
   "metadata": {},
   "outputs": [],
   "source": [
    "## with dropouts\n",
    "from torch import nn\n",
    "torch.manual_seed(123)\n",
    "class causualAttentionb_v3(nn.Module) : \n",
    "    def __init__(self, d_in, d_out, qkv_bias=False) : \n",
    "        super().__init__()\n",
    "        # nn.Linear also creates a trainable matrix of in_dim X out_dim\n",
    "        self.W_query = nn.Linear(d_in, d_out, bias = qkv_bias)\n",
    "        self.W_key = nn.Linear(d_in, d_out, bias = qkv_bias)\n",
    "        self.W_value = nn.Linear(d_in, d_out, bias = qkv_bias)\n",
    "        \n",
    "    def forward(self, x) :\n",
    "#         x is input : \n",
    "        queries = self.W_query(x)\n",
    "        keys = self.W_key(x)\n",
    "        values = self.W_value(x)\n",
    "        \n",
    "        attn_scores = queries @ keys.T\n",
    "#         attn_weights = torch.softmax(attn_scores / keys.shape[-1]**0.5, dim = -1)\n",
    "        input_size = inputs.shape[0]\n",
    "        mask = torch.triu(torch.ones(input_size,input_size), diagonal = 1)\n",
    "#         print(mask)\n",
    "        masked = attn_scores.masked_fill(mask.bool(), -torch.inf)\n",
    "#         print(masked)\n",
    "        \n",
    "        masked_attn_weights = torch.softmax(masked / keys.shape[-1]**0.5, dim = -1)\n",
    "        print(masked_attn_weights)\n",
    "        masked_attn_weights = dropout(masked_attn_weights)\n",
    "        print(masked_attn_weights)\n",
    "        \n",
    "        context_vectors = masked_attn_weights @ values\n",
    "        return context_vectors"
   ]
  },
  {
   "cell_type": "code",
   "execution_count": 10,
   "id": "2dcf9925",
   "metadata": {},
   "outputs": [
    {
     "name": "stdout",
     "output_type": "stream",
     "text": [
      "tensor([[1.0000, 0.0000, 0.0000, 0.0000, 0.0000, 0.0000],\n",
      "        [0.4833, 0.5167, 0.0000, 0.0000, 0.0000, 0.0000],\n",
      "        [0.3190, 0.3408, 0.3402, 0.0000, 0.0000, 0.0000],\n",
      "        [0.2445, 0.2545, 0.2542, 0.2468, 0.0000, 0.0000],\n",
      "        [0.1994, 0.2060, 0.2058, 0.1935, 0.1953, 0.0000],\n",
      "        [0.1624, 0.1709, 0.1706, 0.1654, 0.1625, 0.1682]],\n",
      "       grad_fn=<SoftmaxBackward0>)\n",
      "tensor([[0.0000, 0.0000, 0.0000, 0.0000, 0.0000, 0.0000],\n",
      "        [0.9665, 0.0000, 0.0000, 0.0000, 0.0000, 0.0000],\n",
      "        [0.6380, 0.6816, 0.0000, 0.0000, 0.0000, 0.0000],\n",
      "        [0.0000, 0.5090, 0.5085, 0.4936, 0.0000, 0.0000],\n",
      "        [0.0000, 0.0000, 0.0000, 0.0000, 0.0000, 0.0000],\n",
      "        [0.3249, 0.3418, 0.0000, 0.0000, 0.3249, 0.3363]],\n",
      "       grad_fn=<MulBackward0>)\n"
     ]
    },
    {
     "data": {
      "text/plain": [
       "tensor([[ 0.0000,  0.0000],\n",
       "        [-0.4368,  0.2142],\n",
       "        [-0.7751,  0.0077],\n",
       "        [-0.9140, -0.2769],\n",
       "        [ 0.0000,  0.0000],\n",
       "        [-0.6906, -0.0974]], grad_fn=<MmBackward0>)"
      ]
     },
     "execution_count": 10,
     "metadata": {},
     "output_type": "execute_result"
    }
   ],
   "source": [
    "c_attn = causualAttentionb_v3(3,2)\n",
    "c_attn(inputs)"
   ]
  },
  {
   "cell_type": "code",
   "execution_count": 11,
   "id": "b1023fa2",
   "metadata": {},
   "outputs": [],
   "source": [
    "inputs = torch.rand(2,6,3)\n",
    "inputs.shape\n",
    "context_size = inputs.shape[1]"
   ]
  },
  {
   "cell_type": "code",
   "execution_count": 32,
   "id": "3c9883b3",
   "metadata": {},
   "outputs": [],
   "source": [
    "## Creating class which handles multiple batches\n",
    "\n",
    "# input (x) --> [batch_size,tokens, token(dim)]\n",
    "# no of batches and batch_size are different\n",
    "# batch_size denotes the number of inputs in a single batch\n",
    "import torch\n",
    "from torch import nn\n",
    "\n",
    "class causualAttention_v4(nn.Module) :\n",
    "    \n",
    "    def __init__(self,d_in, d_out,context_length,dropout,qky_bias=False) :\n",
    "        super().__init__()\n",
    "        self.W_query = nn.Linear(d_in, d_out, bias = qky_bias)\n",
    "        self.W_key = nn.Linear(d_in, d_out, bias = qky_bias)\n",
    "        self.W_value = nn.Linear(d_in, d_out, bias = qky_bias)\n",
    "        self.dropout = nn.Dropout(dropout)\n",
    "        self.register_buffer('mask', torch.triu(torch.ones(context_length, context_length), diagonal = 1))\n",
    "        \n",
    "    def forward(self,x) :\n",
    "        # x : [batch_size, tokens, dim]\n",
    "        b, num_tokens, d_in = x.shape\n",
    "        keys = self.W_key(x)\n",
    "        queries = self.W_query(x)\n",
    "        values = self.W_value(x)\n",
    "        \n",
    "        # keys : [batch_size, tokens , d_out]\n",
    "        # queries : [batch_size, tokens, d_out]\n",
    "        # values : [batch_size, tokens, d_out]\n",
    "        \n",
    "#         print(keys.shape, queries.shape, values.shape)\n",
    "        \n",
    "        attn_scores = queries @ keys.transpose(1,2)\n",
    "        # attn_scores : [batch_size, token_size, token_size]\n",
    "#         print(attn_scores)\n",
    "        \n",
    "        attn_scores.masked_fill_(\n",
    "            self.mask.bool()[:num_tokens, :num_tokens], -torch.inf)\n",
    "        \n",
    "        attn_weights = torch.softmax(attn_scores / keys.shape[-1]**0.5, dim = -1)\n",
    "#         print(attn_weights)\n",
    "        \n",
    "        context_vec = attn_weights @ values\n",
    "        # context_vec --> [batch_size, tokens, dim_out]\n",
    "        print(context_vec.shape)\n",
    "        return context_vec\n",
    "\n",
    "        "
   ]
  },
  {
   "cell_type": "code",
   "execution_count": 33,
   "id": "2dab9a4b",
   "metadata": {},
   "outputs": [
    {
     "name": "stdout",
     "output_type": "stream",
     "text": [
      "torch.Size([2, 6, 2])\n"
     ]
    },
    {
     "data": {
      "text/plain": [
       "tensor([[[0.3495, 0.0982],\n",
       "         [0.3668, 0.1288],\n",
       "         [0.3236, 0.1003],\n",
       "         [0.3116, 0.1005],\n",
       "         [0.3158, 0.0991],\n",
       "         [0.3270, 0.1292]],\n",
       "\n",
       "        [[0.1181, 0.0051],\n",
       "         [0.1367, 0.0219],\n",
       "         [0.2159, 0.0822],\n",
       "         [0.2124, 0.0461],\n",
       "         [0.2421, 0.0647],\n",
       "         [0.2548, 0.0744]]], grad_fn=<UnsafeViewBackward0>)"
      ]
     },
     "execution_count": 33,
     "metadata": {},
     "output_type": "execute_result"
    }
   ],
   "source": [
    "c_attn = causualAttention_v4(3,2,6,0.5)\n",
    "c_attn(inputs)"
   ]
  },
  {
   "cell_type": "code",
   "execution_count": 49,
   "id": "41bce7cd",
   "metadata": {},
   "outputs": [],
   "source": [
    "import torch\n",
    "from torch import nn\n",
    "\n",
    "class MultiHeadAttensionWrapper(nn.Module): \n",
    "    \n",
    "    def __init__(self, d_in, d_out, context_length, dropout,num_heads, qkv_bias=False) :\n",
    "        # d_in : input vector embedding size | 3 here\n",
    "        # d_out : hyperparam | 2 here\n",
    "        super().__init__()\n",
    "        self.heads = nn.ModuleList(\n",
    "            [causualAttention_v4(d_in, d_out, context_length, dropout,qkv_bias) for _ in range(num_heads)]\n",
    "        )\n",
    "        \n",
    "    def forward(self,x) :\n",
    "        return torch.cat([head(x) for head in self.heads], dim = -1)\n",
    "        # head(X) dim --> [6,dim_out]\n",
    "        # torch.cat --> [6, dim_out * num_heads]\n",
    "        "
   ]
  },
  {
   "cell_type": "code",
   "execution_count": 50,
   "id": "942c1bb5",
   "metadata": {},
   "outputs": [
    {
     "name": "stdout",
     "output_type": "stream",
     "text": [
      "torch.Size([2, 6, 2])\n",
      "torch.Size([2, 6, 2])\n"
     ]
    },
    {
     "data": {
      "text/plain": [
       "tensor([[[-0.1827,  0.3134,  0.4914,  0.1591],\n",
       "         [-0.1631,  0.2361,  0.4388,  0.2684],\n",
       "         [-0.2089,  0.3010,  0.4037,  0.0925],\n",
       "         [-0.2761,  0.3381,  0.3294, -0.0102],\n",
       "         [-0.2722,  0.3446,  0.3584,  0.0198],\n",
       "         [-0.2925,  0.2896,  0.2787,  0.0847]],\n",
       "\n",
       "        [[-0.1627,  0.2677,  0.2235, -0.1434],\n",
       "         [-0.1674,  0.2483,  0.2118, -0.0999],\n",
       "         [-0.2549,  0.2496,  0.1786, -0.0239],\n",
       "         [-0.2192,  0.3143,  0.2975, -0.0682],\n",
       "         [-0.2348,  0.3123,  0.3053, -0.0321],\n",
       "         [-0.2277,  0.2986,  0.3099,  0.0035]]], grad_fn=<CatBackward0>)"
      ]
     },
     "execution_count": 50,
     "metadata": {},
     "output_type": "execute_result"
    }
   ],
   "source": [
    "multi_head = MultiHeadAttensionWrapper(3,2,6,0.5,2)\n",
    "multi_head(inputs)"
   ]
  },
  {
   "cell_type": "code",
   "execution_count": 51,
   "id": "4f893bdd",
   "metadata": {},
   "outputs": [
    {
     "name": "stdout",
     "output_type": "stream",
     "text": [
      "tensor([[-1.0821,  0.3351],\n",
      "        [ 2.2381, -0.5132],\n",
      "        [ 0.2942,  2.0296]])\n",
      "torch.Size([6, 2]) torch.Size([3, 4])\n",
      "tensor([[-1.0821,  0.3351],\n",
      "        [ 2.2381, -0.5132],\n",
      "        [ 0.2942,  2.0296],\n",
      "        [-1.0821,  0.3351],\n",
      "        [ 2.2381, -0.5132],\n",
      "        [ 0.2942,  2.0296]]) tensor([[-1.0821,  0.3351, -1.0821,  0.3351],\n",
      "        [ 2.2381, -0.5132,  2.2381, -0.5132],\n",
      "        [ 0.2942,  2.0296,  0.2942,  2.0296]])\n"
     ]
    }
   ],
   "source": [
    "## Torch cat\n",
    "## torch.cat(tensors, dimension : <dim>)\n",
    "# tensors must have same shape except the cat dimension\n",
    "# Example : \n",
    "x = torch.randn(3,2)\n",
    "print(x)\n",
    "x1 = torch.cat((x,x), dim = 0)\n",
    "x2 = torch.cat((x,x), dim = 1)\n",
    "print(x1.shape, x2.shape)\n",
    "print(x1,x2)"
   ]
  },
  {
   "cell_type": "code",
   "execution_count": null,
   "id": "c8344163",
   "metadata": {},
   "outputs": [],
   "source": []
  }
 ],
 "metadata": {
  "kernelspec": {
   "display_name": "Python Pytorch ENV",
   "language": "python",
   "name": "pytorch_env"
  },
  "language_info": {
   "codemirror_mode": {
    "name": "ipython",
    "version": 3
   },
   "file_extension": ".py",
   "mimetype": "text/x-python",
   "name": "python",
   "nbconvert_exporter": "python",
   "pygments_lexer": "ipython3",
   "version": "3.12.3"
  }
 },
 "nbformat": 4,
 "nbformat_minor": 5
}
